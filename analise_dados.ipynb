{
 "cells": [
  {
   "cell_type": "markdown",
   "id": "63d1ba44",
   "metadata": {},
   "source": [
    "<div style=\"background-color:#003366; color:#FFFFFF; padding: 15px; border-radius: 5px;\">\n",
    "          Análise de mercado de transporte por aplicativo - Empresa Zuber \n",
    "\n",
    "          \n",
    "\n",
    "</div>"
   ]
  },
  {
   "cell_type": "markdown",
   "id": "867448a5",
   "metadata": {},
   "source": [
    "Descrição do Projeto\n",
    "\n",
    "Este projeto tem como objetivo analisar o mercado de transporte por aplicativo em Chicago, focando na identificação de padrões e no entendimento das preferências dos passageiros. Para isso, serão investigados dados de empresas concorrentes e testada a hipótese de que o clima é um fator determinante na frequência das viagens.\n",
    "A análise busca gerar insights valiosos para a operação, ajudando a compreender como fatores externos influenciam a demanda por corridas."
   ]
  },
  {
   "cell_type": "markdown",
   "id": "561a34c2",
   "metadata": {},
   "source": [
    "<div style=\"background-color:#66B2FF; color:#FFFFFF; padding: 15px; border-radius: 5px;\">\n",
    ">> Pré - processamento de Dados             \n",
    "</div>"
   ]
  },
  {
   "cell_type": "code",
   "execution_count": 48,
   "id": "dbb49041",
   "metadata": {},
   "outputs": [],
   "source": [
    "import pandas as pd\n",
    "from matplotlib import pyplot as plt\n",
    "import seaborn as sns\n"
   ]
  },
  {
   "cell_type": "code",
   "execution_count": 49,
   "id": "82bf828c",
   "metadata": {},
   "outputs": [],
   "source": [
    "df1 = pd.read_csv('Sprint 07 - arquivo I.csv', sep=';')\n"
   ]
  },
  {
   "cell_type": "code",
   "execution_count": 50,
   "id": "5b91c7f1",
   "metadata": {},
   "outputs": [],
   "source": [
    "df2 = pd.read_csv('Sprint 07 -arquivo II.csv', sep=';')"
   ]
  },
  {
   "cell_type": "code",
   "execution_count": 51,
   "id": "34326692",
   "metadata": {},
   "outputs": [
    {
     "data": {
      "text/html": [
       "<div>\n",
       "<style scoped>\n",
       "    .dataframe tbody tr th:only-of-type {\n",
       "        vertical-align: middle;\n",
       "    }\n",
       "\n",
       "    .dataframe tbody tr th {\n",
       "        vertical-align: top;\n",
       "    }\n",
       "\n",
       "    .dataframe thead th {\n",
       "        text-align: right;\n",
       "    }\n",
       "</style>\n",
       "<table border=\"1\" class=\"dataframe\">\n",
       "  <thead>\n",
       "    <tr style=\"text-align: right;\">\n",
       "      <th></th>\n",
       "      <th>dropoff_location_name,average_trips</th>\n",
       "    </tr>\n",
       "  </thead>\n",
       "  <tbody>\n",
       "    <tr>\n",
       "      <th>0</th>\n",
       "      <td>Loop,10727.466666666667</td>\n",
       "    </tr>\n",
       "    <tr>\n",
       "      <th>1</th>\n",
       "      <td>River North,9523.666666666666</td>\n",
       "    </tr>\n",
       "    <tr>\n",
       "      <th>2</th>\n",
       "      <td>Streeterville,6664.666666666667</td>\n",
       "    </tr>\n",
       "    <tr>\n",
       "      <th>3</th>\n",
       "      <td>West Loop,5163.666666666667</td>\n",
       "    </tr>\n",
       "    <tr>\n",
       "      <th>4</th>\n",
       "      <td>O'Hare,2546.9</td>\n",
       "    </tr>\n",
       "  </tbody>\n",
       "</table>\n",
       "</div>"
      ],
      "text/plain": [
       "  dropoff_location_name,average_trips\n",
       "0             Loop,10727.466666666667\n",
       "1       River North,9523.666666666666\n",
       "2     Streeterville,6664.666666666667\n",
       "3         West Loop,5163.666666666667\n",
       "4                       O'Hare,2546.9"
      ]
     },
     "metadata": {},
     "output_type": "display_data"
    }
   ],
   "source": [
    "display(df1.head(5))"
   ]
  }
 ],
 "metadata": {
  "kernelspec": {
   "display_name": "sprint7",
   "language": "python",
   "name": "python3"
  },
  "language_info": {
   "codemirror_mode": {
    "name": "ipython",
    "version": 3
   },
   "file_extension": ".py",
   "mimetype": "text/x-python",
   "name": "python",
   "nbconvert_exporter": "python",
   "pygments_lexer": "ipython3",
   "version": "3.10.18"
  }
 },
 "nbformat": 4,
 "nbformat_minor": 5
}
